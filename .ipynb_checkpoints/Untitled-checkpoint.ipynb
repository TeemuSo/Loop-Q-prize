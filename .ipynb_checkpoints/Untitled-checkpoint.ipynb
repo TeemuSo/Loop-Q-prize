{
 "cells": [
  {
   "cell_type": "markdown",
   "metadata": {},
   "source": [
    "# Challenge A - emotion recognition"
   ]
  },
  {
   "cell_type": "markdown",
   "metadata": {},
   "source": [
    "Import necessary libraries"
   ]
  },
  {
   "cell_type": "code",
   "execution_count": 1,
   "metadata": {},
   "outputs": [],
   "source": [
    "import pandas as pd"
   ]
  },
  {
   "cell_type": "markdown",
   "metadata": {},
   "source": [
    "## Data loading"
   ]
  },
  {
   "cell_type": "code",
   "execution_count": 5,
   "metadata": {},
   "outputs": [],
   "source": [
    "data_dir = 'data/'\n",
    "train_filename = 'challengeA_train.csv'\n",
    "test_filename = 'challengeA_test.csv'\n",
    "\n",
    "train_df = pd.read_csv(data_dir + train_filename)"
   ]
  },
  {
   "cell_type": "code",
   "execution_count": 6,
   "metadata": {},
   "outputs": [
    {
     "data": {
      "text/html": [
       "<div>\n",
       "<style scoped>\n",
       "    .dataframe tbody tr th:only-of-type {\n",
       "        vertical-align: middle;\n",
       "    }\n",
       "\n",
       "    .dataframe tbody tr th {\n",
       "        vertical-align: top;\n",
       "    }\n",
       "\n",
       "    .dataframe thead th {\n",
       "        text-align: right;\n",
       "    }\n",
       "</style>\n",
       "<table border=\"1\" class=\"dataframe\">\n",
       "  <thead>\n",
       "    <tr style=\"text-align: right;\">\n",
       "      <th></th>\n",
       "      <th>Unnamed: 0</th>\n",
       "      <th>image_id</th>\n",
       "      <th>emotion</th>\n",
       "    </tr>\n",
       "  </thead>\n",
       "  <tbody>\n",
       "    <tr>\n",
       "      <th>0</th>\n",
       "      <td>0</td>\n",
       "      <td>7b8b3a37-3dab-4d0a-af96-38c1be4a1983</td>\n",
       "      <td>6</td>\n",
       "    </tr>\n",
       "    <tr>\n",
       "      <th>1</th>\n",
       "      <td>1</td>\n",
       "      <td>7551243c-2334-497c-9cde-b36810eb9c91</td>\n",
       "      <td>6</td>\n",
       "    </tr>\n",
       "    <tr>\n",
       "      <th>2</th>\n",
       "      <td>2</td>\n",
       "      <td>dd3db60d-7b63-4ff1-84e2-90a8ca63d51c</td>\n",
       "      <td>0</td>\n",
       "    </tr>\n",
       "    <tr>\n",
       "      <th>3</th>\n",
       "      <td>3</td>\n",
       "      <td>0f0a2c1b-9660-4855-9c40-4a34e5b2ed09</td>\n",
       "      <td>2</td>\n",
       "    </tr>\n",
       "    <tr>\n",
       "      <th>4</th>\n",
       "      <td>4</td>\n",
       "      <td>9b60bd4e-09dc-4118-bb05-df594c954993</td>\n",
       "      <td>2</td>\n",
       "    </tr>\n",
       "    <tr>\n",
       "      <th>...</th>\n",
       "      <td>...</td>\n",
       "      <td>...</td>\n",
       "      <td>...</td>\n",
       "    </tr>\n",
       "    <tr>\n",
       "      <th>30498</th>\n",
       "      <td>30498</td>\n",
       "      <td>162e30b2-1712-495c-a6c5-895cb64a15bc</td>\n",
       "      <td>2</td>\n",
       "    </tr>\n",
       "    <tr>\n",
       "      <th>30499</th>\n",
       "      <td>30499</td>\n",
       "      <td>7ed60f33-4bcb-442f-95af-f6f81c878117</td>\n",
       "      <td>4</td>\n",
       "    </tr>\n",
       "    <tr>\n",
       "      <th>30500</th>\n",
       "      <td>30500</td>\n",
       "      <td>9e3c8db0-c200-41be-8e65-f9730cac326a</td>\n",
       "      <td>4</td>\n",
       "    </tr>\n",
       "    <tr>\n",
       "      <th>30501</th>\n",
       "      <td>30501</td>\n",
       "      <td>cd3cb76b-9b98-4568-a433-05551dba8f4b</td>\n",
       "      <td>0</td>\n",
       "    </tr>\n",
       "    <tr>\n",
       "      <th>30502</th>\n",
       "      <td>30502</td>\n",
       "      <td>7b3f1aa8-fd84-4275-90c1-65c8e6ebd623</td>\n",
       "      <td>4</td>\n",
       "    </tr>\n",
       "  </tbody>\n",
       "</table>\n",
       "<p>30503 rows × 3 columns</p>\n",
       "</div>"
      ],
      "text/plain": [
       "       Unnamed: 0                              image_id  emotion\n",
       "0               0  7b8b3a37-3dab-4d0a-af96-38c1be4a1983        6\n",
       "1               1  7551243c-2334-497c-9cde-b36810eb9c91        6\n",
       "2               2  dd3db60d-7b63-4ff1-84e2-90a8ca63d51c        0\n",
       "3               3  0f0a2c1b-9660-4855-9c40-4a34e5b2ed09        2\n",
       "4               4  9b60bd4e-09dc-4118-bb05-df594c954993        2\n",
       "...           ...                                   ...      ...\n",
       "30498       30498  162e30b2-1712-495c-a6c5-895cb64a15bc        2\n",
       "30499       30499  7ed60f33-4bcb-442f-95af-f6f81c878117        4\n",
       "30500       30500  9e3c8db0-c200-41be-8e65-f9730cac326a        4\n",
       "30501       30501  cd3cb76b-9b98-4568-a433-05551dba8f4b        0\n",
       "30502       30502  7b3f1aa8-fd84-4275-90c1-65c8e6ebd623        4\n",
       "\n",
       "[30503 rows x 3 columns]"
      ]
     },
     "execution_count": 6,
     "metadata": {},
     "output_type": "execute_result"
    }
   ],
   "source": [
    "train_df"
   ]
  }
 ],
 "metadata": {
  "kernelspec": {
   "display_name": "pytorch",
   "language": "python",
   "name": "pytorch"
  },
  "language_info": {
   "codemirror_mode": {
    "name": "ipython",
    "version": 3
   },
   "file_extension": ".py",
   "mimetype": "text/x-python",
   "name": "python",
   "nbconvert_exporter": "python",
   "pygments_lexer": "ipython3",
   "version": "3.6.10"
  }
 },
 "nbformat": 4,
 "nbformat_minor": 4
}
